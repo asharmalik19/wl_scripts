{
 "cells": [
  {
   "cell_type": "code",
   "execution_count": 74,
   "metadata": {
    "vscode": {
     "languageId": "ruby"
    }
   },
   "outputs": [
    {
     "data": {
      "text/plain": [
       "(877, 9)"
      ]
     },
     "execution_count": 74,
     "metadata": {},
     "output_type": "execute_result"
    }
   ],
   "source": [
    "import pandas as pd\n",
    "data_df = pd.read_excel('hawaii.xlsx')\n",
    "data_df.head()\n",
    "data_df.shape"
   ]
  },
  {
   "cell_type": "code",
   "execution_count": 75,
   "metadata": {
    "vscode": {
     "languageId": "ruby"
    }
   },
   "outputs": [
    {
     "data": {
      "text/plain": [
       "(877, 9)"
      ]
     },
     "execution_count": 75,
     "metadata": {},
     "output_type": "execute_result"
    }
   ],
   "source": [
    "# filter duplicates within the file\n",
    "def remove_duplicates(data_df):\n",
    "    columns_to_check = ['Company', 'Number', 'Address']\n",
    "    data_df_without_duplicates = data_df[~data_df.duplicated(subset=columns_to_check, keep='first')]\n",
    "    return data_df_without_duplicates\n",
    "\n",
    "unique_data_df = remove_duplicates(data_df)\n",
    "unique_data_df.shape"
   ]
  },
  {
   "cell_type": "code",
   "execution_count": 76,
   "metadata": {
    "vscode": {
     "languageId": "ruby"
    }
   },
   "outputs": [
    {
     "data": {
      "text/plain": [
       "(877, 9)"
      ]
     },
     "execution_count": 76,
     "metadata": {},
     "output_type": "execute_result"
    }
   ],
   "source": [
    "# filter the rows that exist in the master g-maps file\n",
    "def remove_duplicates_with_master_file(g_maps_master_df, new_file_df):\n",
    "    columns_to_check = ['Company', 'Number', 'Address']\n",
    "    original_columns = new_file_df.columns\n",
    "    merged_df = pd.merge(new_file_df, g_maps_master_df, on=columns_to_check, how='left', indicator=True)\n",
    "    unique_rows_df = merged_df[merged_df['_merge'] == 'left_only']\n",
    "    y_columns = [col for col in unique_rows_df.columns if col.endswith('_y')]\n",
    "    unique_rows_df = unique_rows_df.drop(columns=y_columns + ['_merge'])   \n",
    "    unique_rows_df.columns = original_columns\n",
    "    return unique_rows_df\n",
    "\n",
    "g_maps_master_df = pd.read_excel('g_maps_master_file.xlsx')\n",
    "unique_from_master_df = remove_duplicates_with_master_file(g_maps_master_df, unique_data_df)\n",
    "unique_from_master_df.head()\n",
    "unique_from_master_df.shape"
   ]
  },
  {
   "cell_type": "code",
   "execution_count": 77,
   "metadata": {
    "vscode": {
     "languageId": "ruby"
    }
   },
   "outputs": [],
   "source": [
    "# save the unique data to the g-maps master file\n",
    "unique_from_master_df.to_csv('add_to_master_map.csv', index=False)\n",
    "\n",
    "# save the data without domains to a file for manual review\n",
    "unique_from_master_df[unique_from_master_df['Domain'].isnull()].to_csv('add_to_manual_review.csv', index=False)"
   ]
  },
  {
   "cell_type": "markdown",
   "metadata": {},
   "source": [
    "## Data after this point needs to be further processed with automation with email finder, vendors finder etc. The data without domains needs to be added to the file called manual"
   ]
  },
  {
   "cell_type": "code",
   "execution_count": 78,
   "metadata": {
    "vscode": {
     "languageId": "ruby"
    }
   },
   "outputs": [
    {
     "data": {
      "text/plain": [
       "(552, 9)"
      ]
     },
     "execution_count": 78,
     "metadata": {},
     "output_type": "execute_result"
    }
   ],
   "source": [
    "# Filter based on existing domains\n",
    "def remove_duplicates(existing_domains, new_file_df):\n",
    "    existing_domains = existing_domains.rename(columns={'Web_Domain': 'Domain'})\n",
    "    common_domains = set(existing_domains['Domain']).intersection(set(new_file_df['Domain']))\n",
    "    filtered_new_df = new_file_df[~new_file_df['Domain'].isin(common_domains)]\n",
    "    return filtered_new_df\n",
    "\n",
    "existing_domains_df = pd.read_csv('New_Leads_Domains_Look-Up_Query_De-Duplication.csv')\n",
    "filtered_based_on_existing_domains = remove_duplicates(existing_domains_df, unique_from_master_df)\n",
    "filtered_based_on_existing_domains.head()\n",
    "filtered_based_on_existing_domains.shape\n"
   ]
  },
  {
   "cell_type": "code",
   "execution_count": 79,
   "metadata": {
    "vscode": {
     "languageId": "ruby"
    }
   },
   "outputs": [
    {
     "data": {
      "text/html": [
       "<div>\n",
       "<style scoped>\n",
       "    .dataframe tbody tr th:only-of-type {\n",
       "        vertical-align: middle;\n",
       "    }\n",
       "\n",
       "    .dataframe tbody tr th {\n",
       "        vertical-align: top;\n",
       "    }\n",
       "\n",
       "    .dataframe thead th {\n",
       "        text-align: right;\n",
       "    }\n",
       "</style>\n",
       "<table border=\"1\" class=\"dataframe\">\n",
       "  <thead>\n",
       "    <tr style=\"text-align: right;\">\n",
       "      <th></th>\n",
       "      <th>Company</th>\n",
       "      <th>Number</th>\n",
       "      <th>Address</th>\n",
       "      <th>Domain</th>\n",
       "      <th>Website</th>\n",
       "      <th>Business Type</th>\n",
       "      <th>Business Status</th>\n",
       "      <th>State</th>\n",
       "      <th>Keyword</th>\n",
       "    </tr>\n",
       "  </thead>\n",
       "  <tbody>\n",
       "    <tr>\n",
       "      <th>0</th>\n",
       "      <td>24-VII Danceforce</td>\n",
       "      <td>+1 808-913-4904</td>\n",
       "      <td>46-056 Kamehameha Hwy, Kaneohe, HI 96744, Unit...</td>\n",
       "      <td>247dance.org</td>\n",
       "      <td>http://247dance.org/</td>\n",
       "      <td>Dance school</td>\n",
       "      <td>NaN</td>\n",
       "      <td>HI</td>\n",
       "      <td>Pole Dance Studio</td>\n",
       "    </tr>\n",
       "    <tr>\n",
       "      <th>1</th>\n",
       "      <td>24 Hour Fitness</td>\n",
       "      <td>+1 808-545-5510</td>\n",
       "      <td>1000 Bishop St, Honolulu, HI 96813, United States</td>\n",
       "      <td>24go.co</td>\n",
       "      <td>https://www.24hourfitness.com/gyms/honolulu-hi...</td>\n",
       "      <td>Gym</td>\n",
       "      <td>NaN</td>\n",
       "      <td>HI</td>\n",
       "      <td>Fitness Studio</td>\n",
       "    </tr>\n",
       "    <tr>\n",
       "      <th>2</th>\n",
       "      <td>24 Hour Fitness</td>\n",
       "      <td>+1 808-951-7677</td>\n",
       "      <td>1680 Kapiolani Blvd, Honolulu, HI 96814, Unite...</td>\n",
       "      <td>24go.co</td>\n",
       "      <td>https://www.24hourfitness.com/gyms/honolulu-hi...</td>\n",
       "      <td>Gym</td>\n",
       "      <td>NaN</td>\n",
       "      <td>HI</td>\n",
       "      <td>Fitness Studio</td>\n",
       "    </tr>\n",
       "    <tr>\n",
       "      <th>3</th>\n",
       "      <td>24 Hour Fitness</td>\n",
       "      <td>+1 808-396-2424</td>\n",
       "      <td>7120 Kalanianaʻole Hwy, Honolulu, HI 96825, Un...</td>\n",
       "      <td>24go.co</td>\n",
       "      <td>https://www.24hourfitness.com/gyms/honolulu-hi...</td>\n",
       "      <td>Gym</td>\n",
       "      <td>NaN</td>\n",
       "      <td>HI</td>\n",
       "      <td>Fitness Studio</td>\n",
       "    </tr>\n",
       "    <tr>\n",
       "      <th>4</th>\n",
       "      <td>24 Hour Fitness</td>\n",
       "      <td>+1 808-377-6855</td>\n",
       "      <td>91-5431 Kapolei Pkwy #1700, Kapolei, HI 96707,...</td>\n",
       "      <td>24go.co</td>\n",
       "      <td>https://www.24hourfitness.com/gyms/kapolei-hi/...</td>\n",
       "      <td>Gym</td>\n",
       "      <td>NaN</td>\n",
       "      <td>HI</td>\n",
       "      <td>Fitness Studio</td>\n",
       "    </tr>\n",
       "  </tbody>\n",
       "</table>\n",
       "</div>"
      ],
      "text/plain": [
       "             Company           Number  \\\n",
       "0  24-VII Danceforce  +1 808-913-4904   \n",
       "1    24 Hour Fitness  +1 808-545-5510   \n",
       "2    24 Hour Fitness  +1 808-951-7677   \n",
       "3    24 Hour Fitness  +1 808-396-2424   \n",
       "4    24 Hour Fitness  +1 808-377-6855   \n",
       "\n",
       "                                             Address        Domain  \\\n",
       "0  46-056 Kamehameha Hwy, Kaneohe, HI 96744, Unit...  247dance.org   \n",
       "1  1000 Bishop St, Honolulu, HI 96813, United States       24go.co   \n",
       "2  1680 Kapiolani Blvd, Honolulu, HI 96814, Unite...       24go.co   \n",
       "3  7120 Kalanianaʻole Hwy, Honolulu, HI 96825, Un...       24go.co   \n",
       "4  91-5431 Kapolei Pkwy #1700, Kapolei, HI 96707,...       24go.co   \n",
       "\n",
       "                                             Website Business Type  \\\n",
       "0                               http://247dance.org/  Dance school   \n",
       "1  https://www.24hourfitness.com/gyms/honolulu-hi...           Gym   \n",
       "2  https://www.24hourfitness.com/gyms/honolulu-hi...           Gym   \n",
       "3  https://www.24hourfitness.com/gyms/honolulu-hi...           Gym   \n",
       "4  https://www.24hourfitness.com/gyms/kapolei-hi/...           Gym   \n",
       "\n",
       "  Business Status State            Keyword  \n",
       "0             NaN    HI  Pole Dance Studio  \n",
       "1             NaN    HI     Fitness Studio  \n",
       "2             NaN    HI     Fitness Studio  \n",
       "3             NaN    HI     Fitness Studio  \n",
       "4             NaN    HI     Fitness Studio  "
      ]
     },
     "metadata": {},
     "output_type": "display_data"
    },
    {
     "data": {
      "text/plain": [
       "(439, 9)"
      ]
     },
     "execution_count": 79,
     "metadata": {},
     "output_type": "execute_result"
    }
   ],
   "source": [
    "# Filter based on business types\n",
    "business_types_df = pd.read_csv('business_types_supported.csv')\n",
    "unwanted_types = business_types_df[business_types_df['Include (Y/N)'] == 'No']['Google Category'].tolist()\n",
    "filtered_df = filtered_based_on_existing_domains[~filtered_based_on_existing_domains['Business Type'].isin(unwanted_types)]\n",
    "display(filtered_df.head())\n",
    "filtered_df.shape"
   ]
  },
  {
   "cell_type": "code",
   "execution_count": null,
   "metadata": {
    "vscode": {
     "languageId": "ruby"
    }
   },
   "outputs": [
    {
     "name": "stderr",
     "output_type": "stream",
     "text": [
      "C:\\Users\\AsharKhan\\AppData\\Local\\Temp\\ipykernel_13092\\2889822839.py:2: SettingWithCopyWarning: \n",
      "A value is trying to be set on a copy of a slice from a DataFrame.\n",
      "Try using .loc[row_indexer,col_indexer] = value instead\n",
      "\n",
      "See the caveats in the documentation: https://pandas.pydata.org/pandas-docs/stable/user_guide/indexing.html#returning-a-view-versus-a-copy\n",
      "  filtered_df['lead_id'] = filtered_df.apply(lambda x: f\"{x['Domain']}_{x['Address']}\".replace(' ', '_'), axis=1)\n"
     ]
    },
    {
     "data": {
      "text/html": [
       "<div>\n",
       "<style scoped>\n",
       "    .dataframe tbody tr th:only-of-type {\n",
       "        vertical-align: middle;\n",
       "    }\n",
       "\n",
       "    .dataframe tbody tr th {\n",
       "        vertical-align: top;\n",
       "    }\n",
       "\n",
       "    .dataframe thead th {\n",
       "        text-align: right;\n",
       "    }\n",
       "</style>\n",
       "<table border=\"1\" class=\"dataframe\">\n",
       "  <thead>\n",
       "    <tr style=\"text-align: right;\">\n",
       "      <th></th>\n",
       "      <th>Company</th>\n",
       "      <th>Number</th>\n",
       "      <th>Address</th>\n",
       "      <th>Domain</th>\n",
       "      <th>Website</th>\n",
       "      <th>Business Type</th>\n",
       "      <th>Business Status</th>\n",
       "      <th>State</th>\n",
       "      <th>Keyword</th>\n",
       "      <th>lead_id</th>\n",
       "    </tr>\n",
       "  </thead>\n",
       "  <tbody>\n",
       "    <tr>\n",
       "      <th>0</th>\n",
       "      <td>24-VII Danceforce</td>\n",
       "      <td>+1 808-913-4904</td>\n",
       "      <td>46-056 Kamehameha Hwy, Kaneohe, HI 96744, Unit...</td>\n",
       "      <td>247dance.org</td>\n",
       "      <td>http://247dance.org/</td>\n",
       "      <td>Dance school</td>\n",
       "      <td>NaN</td>\n",
       "      <td>HI</td>\n",
       "      <td>Pole Dance Studio</td>\n",
       "      <td>247dance.org_46-056_Kamehameha_Hwy,_Kaneohe,_H...</td>\n",
       "    </tr>\n",
       "    <tr>\n",
       "      <th>1</th>\n",
       "      <td>24 Hour Fitness</td>\n",
       "      <td>+1 808-545-5510</td>\n",
       "      <td>1000 Bishop St, Honolulu, HI 96813, United States</td>\n",
       "      <td>24go.co</td>\n",
       "      <td>https://www.24hourfitness.com/gyms/honolulu-hi...</td>\n",
       "      <td>Gym</td>\n",
       "      <td>NaN</td>\n",
       "      <td>HI</td>\n",
       "      <td>Fitness Studio</td>\n",
       "      <td>24go.co_1000_Bishop_St,_Honolulu,_HI_96813,_Un...</td>\n",
       "    </tr>\n",
       "    <tr>\n",
       "      <th>2</th>\n",
       "      <td>24 Hour Fitness</td>\n",
       "      <td>+1 808-951-7677</td>\n",
       "      <td>1680 Kapiolani Blvd, Honolulu, HI 96814, Unite...</td>\n",
       "      <td>24go.co</td>\n",
       "      <td>https://www.24hourfitness.com/gyms/honolulu-hi...</td>\n",
       "      <td>Gym</td>\n",
       "      <td>NaN</td>\n",
       "      <td>HI</td>\n",
       "      <td>Fitness Studio</td>\n",
       "      <td>24go.co_1680_Kapiolani_Blvd,_Honolulu,_HI_9681...</td>\n",
       "    </tr>\n",
       "    <tr>\n",
       "      <th>3</th>\n",
       "      <td>24 Hour Fitness</td>\n",
       "      <td>+1 808-396-2424</td>\n",
       "      <td>7120 Kalanianaʻole Hwy, Honolulu, HI 96825, Un...</td>\n",
       "      <td>24go.co</td>\n",
       "      <td>https://www.24hourfitness.com/gyms/honolulu-hi...</td>\n",
       "      <td>Gym</td>\n",
       "      <td>NaN</td>\n",
       "      <td>HI</td>\n",
       "      <td>Fitness Studio</td>\n",
       "      <td>24go.co_7120_Kalanianaʻole_Hwy,_Honolulu,_HI_9...</td>\n",
       "    </tr>\n",
       "    <tr>\n",
       "      <th>4</th>\n",
       "      <td>24 Hour Fitness</td>\n",
       "      <td>+1 808-377-6855</td>\n",
       "      <td>91-5431 Kapolei Pkwy #1700, Kapolei, HI 96707,...</td>\n",
       "      <td>24go.co</td>\n",
       "      <td>https://www.24hourfitness.com/gyms/kapolei-hi/...</td>\n",
       "      <td>Gym</td>\n",
       "      <td>NaN</td>\n",
       "      <td>HI</td>\n",
       "      <td>Fitness Studio</td>\n",
       "      <td>24go.co_91-5431_Kapolei_Pkwy_#1700,_Kapolei,_H...</td>\n",
       "    </tr>\n",
       "  </tbody>\n",
       "</table>\n",
       "</div>"
      ],
      "text/plain": [
       "             Company           Number  \\\n",
       "0  24-VII Danceforce  +1 808-913-4904   \n",
       "1    24 Hour Fitness  +1 808-545-5510   \n",
       "2    24 Hour Fitness  +1 808-951-7677   \n",
       "3    24 Hour Fitness  +1 808-396-2424   \n",
       "4    24 Hour Fitness  +1 808-377-6855   \n",
       "\n",
       "                                             Address        Domain  \\\n",
       "0  46-056 Kamehameha Hwy, Kaneohe, HI 96744, Unit...  247dance.org   \n",
       "1  1000 Bishop St, Honolulu, HI 96813, United States       24go.co   \n",
       "2  1680 Kapiolani Blvd, Honolulu, HI 96814, Unite...       24go.co   \n",
       "3  7120 Kalanianaʻole Hwy, Honolulu, HI 96825, Un...       24go.co   \n",
       "4  91-5431 Kapolei Pkwy #1700, Kapolei, HI 96707,...       24go.co   \n",
       "\n",
       "                                             Website Business Type  \\\n",
       "0                               http://247dance.org/  Dance school   \n",
       "1  https://www.24hourfitness.com/gyms/honolulu-hi...           Gym   \n",
       "2  https://www.24hourfitness.com/gyms/honolulu-hi...           Gym   \n",
       "3  https://www.24hourfitness.com/gyms/honolulu-hi...           Gym   \n",
       "4  https://www.24hourfitness.com/gyms/kapolei-hi/...           Gym   \n",
       "\n",
       "  Business Status State            Keyword  \\\n",
       "0             NaN    HI  Pole Dance Studio   \n",
       "1             NaN    HI     Fitness Studio   \n",
       "2             NaN    HI     Fitness Studio   \n",
       "3             NaN    HI     Fitness Studio   \n",
       "4             NaN    HI     Fitness Studio   \n",
       "\n",
       "                                             lead_id  \n",
       "0  247dance.org_46-056_Kamehameha_Hwy,_Kaneohe,_H...  \n",
       "1  24go.co_1000_Bishop_St,_Honolulu,_HI_96813,_Un...  \n",
       "2  24go.co_1680_Kapiolani_Blvd,_Honolulu,_HI_9681...  \n",
       "3  24go.co_7120_Kalanianaʻole_Hwy,_Honolulu,_HI_9...  \n",
       "4  24go.co_91-5431_Kapolei_Pkwy_#1700,_Kapolei,_H...  "
      ]
     },
     "execution_count": 80,
     "metadata": {},
     "output_type": "execute_result"
    }
   ],
   "source": [
    "# Add composite key using domain and address\n",
    "filtered_df['Lead_id'] = filtered_df.apply(lambda x: f\"{x['Domain']}_{x['Address']}\".replace(' ', '_'), axis=1)\n",
    "filtered_df.head()\n"
   ]
  },
  {
   "cell_type": "code",
   "execution_count": 81,
   "metadata": {
    "vscode": {
     "languageId": "ruby"
    }
   },
   "outputs": [
    {
     "name": "stderr",
     "output_type": "stream",
     "text": [
      "C:\\Users\\AsharKhan\\AppData\\Local\\Temp\\ipykernel_13092\\3920613413.py:2: SettingWithCopyWarning: \n",
      "A value is trying to be set on a copy of a slice from a DataFrame.\n",
      "Try using .loc[row_indexer,col_indexer] = value instead\n",
      "\n",
      "See the caveats in the documentation: https://pandas.pydata.org/pandas-docs/stable/user_guide/indexing.html#returning-a-view-versus-a-copy\n",
      "  filtered_df['Domain'] = filtered_df['Domain'].apply(lambda x: f\"http://{x}\")\n"
     ]
    },
    {
     "data": {
      "text/html": [
       "<div>\n",
       "<style scoped>\n",
       "    .dataframe tbody tr th:only-of-type {\n",
       "        vertical-align: middle;\n",
       "    }\n",
       "\n",
       "    .dataframe tbody tr th {\n",
       "        vertical-align: top;\n",
       "    }\n",
       "\n",
       "    .dataframe thead th {\n",
       "        text-align: right;\n",
       "    }\n",
       "</style>\n",
       "<table border=\"1\" class=\"dataframe\">\n",
       "  <thead>\n",
       "    <tr style=\"text-align: right;\">\n",
       "      <th></th>\n",
       "      <th>Company</th>\n",
       "      <th>Number</th>\n",
       "      <th>Address</th>\n",
       "      <th>Domain</th>\n",
       "      <th>Website</th>\n",
       "      <th>Business Type</th>\n",
       "      <th>Business Status</th>\n",
       "      <th>State</th>\n",
       "      <th>Keyword</th>\n",
       "      <th>lead_id</th>\n",
       "    </tr>\n",
       "  </thead>\n",
       "  <tbody>\n",
       "    <tr>\n",
       "      <th>0</th>\n",
       "      <td>24-VII Danceforce</td>\n",
       "      <td>+1 808-913-4904</td>\n",
       "      <td>46-056 Kamehameha Hwy, Kaneohe, HI 96744, Unit...</td>\n",
       "      <td>http://247dance.org</td>\n",
       "      <td>http://247dance.org/</td>\n",
       "      <td>Dance school</td>\n",
       "      <td>NaN</td>\n",
       "      <td>HI</td>\n",
       "      <td>Pole Dance Studio</td>\n",
       "      <td>247dance.org_46-056_Kamehameha_Hwy,_Kaneohe,_H...</td>\n",
       "    </tr>\n",
       "    <tr>\n",
       "      <th>1</th>\n",
       "      <td>24 Hour Fitness</td>\n",
       "      <td>+1 808-545-5510</td>\n",
       "      <td>1000 Bishop St, Honolulu, HI 96813, United States</td>\n",
       "      <td>http://24go.co</td>\n",
       "      <td>https://www.24hourfitness.com/gyms/honolulu-hi...</td>\n",
       "      <td>Gym</td>\n",
       "      <td>NaN</td>\n",
       "      <td>HI</td>\n",
       "      <td>Fitness Studio</td>\n",
       "      <td>24go.co_1000_Bishop_St,_Honolulu,_HI_96813,_Un...</td>\n",
       "    </tr>\n",
       "    <tr>\n",
       "      <th>2</th>\n",
       "      <td>24 Hour Fitness</td>\n",
       "      <td>+1 808-951-7677</td>\n",
       "      <td>1680 Kapiolani Blvd, Honolulu, HI 96814, Unite...</td>\n",
       "      <td>http://24go.co</td>\n",
       "      <td>https://www.24hourfitness.com/gyms/honolulu-hi...</td>\n",
       "      <td>Gym</td>\n",
       "      <td>NaN</td>\n",
       "      <td>HI</td>\n",
       "      <td>Fitness Studio</td>\n",
       "      <td>24go.co_1680_Kapiolani_Blvd,_Honolulu,_HI_9681...</td>\n",
       "    </tr>\n",
       "    <tr>\n",
       "      <th>3</th>\n",
       "      <td>24 Hour Fitness</td>\n",
       "      <td>+1 808-396-2424</td>\n",
       "      <td>7120 Kalanianaʻole Hwy, Honolulu, HI 96825, Un...</td>\n",
       "      <td>http://24go.co</td>\n",
       "      <td>https://www.24hourfitness.com/gyms/honolulu-hi...</td>\n",
       "      <td>Gym</td>\n",
       "      <td>NaN</td>\n",
       "      <td>HI</td>\n",
       "      <td>Fitness Studio</td>\n",
       "      <td>24go.co_7120_Kalanianaʻole_Hwy,_Honolulu,_HI_9...</td>\n",
       "    </tr>\n",
       "    <tr>\n",
       "      <th>4</th>\n",
       "      <td>24 Hour Fitness</td>\n",
       "      <td>+1 808-377-6855</td>\n",
       "      <td>91-5431 Kapolei Pkwy #1700, Kapolei, HI 96707,...</td>\n",
       "      <td>http://24go.co</td>\n",
       "      <td>https://www.24hourfitness.com/gyms/kapolei-hi/...</td>\n",
       "      <td>Gym</td>\n",
       "      <td>NaN</td>\n",
       "      <td>HI</td>\n",
       "      <td>Fitness Studio</td>\n",
       "      <td>24go.co_91-5431_Kapolei_Pkwy_#1700,_Kapolei,_H...</td>\n",
       "    </tr>\n",
       "  </tbody>\n",
       "</table>\n",
       "</div>"
      ],
      "text/plain": [
       "             Company           Number  \\\n",
       "0  24-VII Danceforce  +1 808-913-4904   \n",
       "1    24 Hour Fitness  +1 808-545-5510   \n",
       "2    24 Hour Fitness  +1 808-951-7677   \n",
       "3    24 Hour Fitness  +1 808-396-2424   \n",
       "4    24 Hour Fitness  +1 808-377-6855   \n",
       "\n",
       "                                             Address               Domain  \\\n",
       "0  46-056 Kamehameha Hwy, Kaneohe, HI 96744, Unit...  http://247dance.org   \n",
       "1  1000 Bishop St, Honolulu, HI 96813, United States       http://24go.co   \n",
       "2  1680 Kapiolani Blvd, Honolulu, HI 96814, Unite...       http://24go.co   \n",
       "3  7120 Kalanianaʻole Hwy, Honolulu, HI 96825, Un...       http://24go.co   \n",
       "4  91-5431 Kapolei Pkwy #1700, Kapolei, HI 96707,...       http://24go.co   \n",
       "\n",
       "                                             Website Business Type  \\\n",
       "0                               http://247dance.org/  Dance school   \n",
       "1  https://www.24hourfitness.com/gyms/honolulu-hi...           Gym   \n",
       "2  https://www.24hourfitness.com/gyms/honolulu-hi...           Gym   \n",
       "3  https://www.24hourfitness.com/gyms/honolulu-hi...           Gym   \n",
       "4  https://www.24hourfitness.com/gyms/kapolei-hi/...           Gym   \n",
       "\n",
       "  Business Status State            Keyword  \\\n",
       "0             NaN    HI  Pole Dance Studio   \n",
       "1             NaN    HI     Fitness Studio   \n",
       "2             NaN    HI     Fitness Studio   \n",
       "3             NaN    HI     Fitness Studio   \n",
       "4             NaN    HI     Fitness Studio   \n",
       "\n",
       "                                             lead_id  \n",
       "0  247dance.org_46-056_Kamehameha_Hwy,_Kaneohe,_H...  \n",
       "1  24go.co_1000_Bishop_St,_Honolulu,_HI_96813,_Un...  \n",
       "2  24go.co_1680_Kapiolani_Blvd,_Honolulu,_HI_9681...  \n",
       "3  24go.co_7120_Kalanianaʻole_Hwy,_Honolulu,_HI_9...  \n",
       "4  24go.co_91-5431_Kapolei_Pkwy_#1700,_Kapolei,_H...  "
      ]
     },
     "execution_count": 81,
     "metadata": {},
     "output_type": "execute_result"
    }
   ],
   "source": [
    "# Add scheme to the domain\n",
    "filtered_df['Domain'] = filtered_df['Domain'].apply(lambda x: f\"http://{x}\")\n",
    "filtered_df.head()"
   ]
  },
  {
   "cell_type": "code",
   "execution_count": 82,
   "metadata": {
    "vscode": {
     "languageId": "ruby"
    }
   },
   "outputs": [],
   "source": [
    "filtered_df.to_csv('filtered_leads.csv', index=False)"
   ]
  },
  {
   "cell_type": "code",
   "execution_count": null,
   "metadata": {
    "vscode": {
     "languageId": "ruby"
    }
   },
   "outputs": [],
   "source": []
  }
 ],
 "metadata": {
  "kernelspec": {
   "display_name": "Python 3",
   "language": "python",
   "name": "python3"
  },
  "language_info": {
   "codemirror_mode": {
    "name": "ipython",
    "version": 3
   },
   "file_extension": ".py",
   "mimetype": "text/x-python",
   "name": "python",
   "nbconvert_exporter": "python",
   "pygments_lexer": "ipython3",
   "version": "3.13.1"
  }
 },
 "nbformat": 4,
 "nbformat_minor": 2
}
